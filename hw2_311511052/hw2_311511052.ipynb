{
 "cells": [
  {
   "cell_type": "markdown",
   "metadata": {},
   "source": [
    "<h1>Package that we need"
   ]
  },
  {
   "cell_type": "code",
   "execution_count": 51,
   "metadata": {},
   "outputs": [],
   "source": [
    "import pandas as pd\n",
    "import numpy as np\n",
    "import matplotlib.pyplot as plt\n",
    "import os\n",
    "\n",
    "# you can choose one of the following package for image reading/processing\n",
    "from cv2 import *\n",
    "from PIL import * # video processing package\n",
    "\n",
    "import warnings\n",
    "  \n",
    "# suppress warnings\n",
    "warnings.filterwarnings('ignore')"
   ]
  },
  {
   "cell_type": "markdown",
   "metadata": {},
   "source": [
    "<h2>1 Classification Problem</h2>\n",
    "<style>\n",
    ".blue{\n",
    "    color: skyblue;\n",
    "}\n",
    ".bold{\n",
    "    font-weight: bold;\n",
    "}\n",
    "</style>\n",
    "\n",
    "#### 1.1\n",
    "Implement the <span class=\"blue\">least squares for classification</span>. You should use a <span class=\"blue\">1-of-K binary coding\n",
    "scheme</span> for the target vector <span class=\"bold\">t</span>. \n",
    "\n",
    "<span class=\"bold\">Show</span> the classification accuracy and the loss value of\n",
    "training and test data."
   ]
  },
  {
   "cell_type": "code",
   "execution_count": 52,
   "metadata": {},
   "outputs": [
    {
     "name": "stdout",
     "output_type": "stream",
     "text": [
      "MNIST already exists\n"
     ]
    }
   ],
   "source": [
    "def extract_zip():\n",
    "    if not os.path.exists('MNIST'):\n",
    "        !unzip 'MNIST.zip'\n",
    "        print('unzip MNIST.zip')\n",
    "    else:\n",
    "        print('MNIST already exists')\n",
    "\n",
    "extract_zip()"
   ]
  },
  {
   "cell_type": "markdown",
   "metadata": {},
   "source": [
    "<h3> Basic function </h3>\n",
    "\n",
    "* load_data: loadinbg data with jpg file, and formating those into numpy array\n",
    "* split_train_test: split data into training set and testing set\n",
    "* one_hot: let y variable \n",
    "* least_square: calculate least square with pseduo inverse\n",
    "* predict: check the answer's accuracy"
   ]
  },
  {
   "cell_type": "code",
   "execution_count": 53,
   "metadata": {},
   "outputs": [],
   "source": [
    "def load_data(data_path='MNIST'):\n",
    "    classes = os.listdir(data_path) # 返回指定的文件夹包含的文件或文件夹的名字的列表\n",
    "    n_classes = len(classes) # 10\n",
    "    images = []\n",
    "    labels = []\n",
    "    for c in classes:\n",
    "        c_path = os.path.join(data_path, c) # 连接两个或更多的路径名组件\n",
    "        for img_name in os.listdir(c_path):\n",
    "            img = Image.open(os.path.join(c_path, img_name)) # load iamge\n",
    "            img = img.convert(\"L\") # 灰度图像，每个像素用8个bit表示，0表示黑，255表示白，其他数字表示不同的灰度\n",
    "            images.append(np.array(img)) # img -> numpy.array\n",
    "            labels.append(int(c)) # c -> number\n",
    "    return np.array(images), np.array(labels)\n",
    "\n",
    "def split_train_test(X, y, test_size=0.25):\n",
    "    x_train = []\n",
    "    x_test = []\n",
    "    y_train = []\n",
    "    y_test = []\n",
    "\n",
    "    for c in np.unique(y): # select data from each class\n",
    "        idx = np.where(y==c)[0] # each classes's index\n",
    "        x_c = X[idx]\n",
    "        label_c = y[idx]\n",
    "        split_size = int(len(x_c)*test_size)\n",
    "\n",
    "        # split data into train and test set\n",
    "        x_train.append(x_c[:split_size])\n",
    "        x_test.append(x_c[split_size:])\n",
    "        y_train.append(label_c[:split_size])\n",
    "        y_test.append(label_c[split_size:])\n",
    "    \n",
    "    # list -> numpy.array\n",
    "    x_train, x_test, y_train, y_test = \\\n",
    "    np.array(x_train).reshape(-1, X.shape[1] * X.shape[2]), np.array(x_test).reshape(-1, X.shape[1] * X.shape[2]), \\\n",
    "    np.array(y_train).reshape(-1), np.array(y_test).reshape(-1)\n",
    "\n",
    "    return x_train, x_test, y_train, y_test\n",
    "\n",
    "# LebelEncoder for one-hot encoding\n",
    "# y -> one-hot encoding\n",
    "def one_hot(y):\n",
    "    classes = np.unique(y)\n",
    "    n_classes = len(classes)\n",
    "    return np.eye(n_classes)[y]\n",
    "\n",
    "# least square using pesudo inverse\n",
    "def least_square(X, y):\n",
    "    w = np.dot(np.linalg.pinv(X), y)\n",
    "    return w\n",
    "\n",
    "# normal equation\n",
    "# prevent overfitting\n",
    "def normal_equation_ridge(X, y, lamda=1):\n",
    "    w = np.dot(np.dot(np.linalg.inv(np.dot(X.T, X) + lamda * np.eye(X.shape[1])), X.T), y)\n",
    "    return w\n",
    "\n",
    "def predict(x, w):\n",
    "    y = np.dot(x, w)\n",
    "    return y"
   ]
  },
  {
   "cell_type": "code",
   "execution_count": 54,
   "metadata": {},
   "outputs": [
    {
     "name": "stdout",
     "output_type": "stream",
     "text": [
      "(320, 784) (320,)\n",
      "(960, 784) (960,)\n",
      "(320, 784) (320, 10)\n",
      "(960, 784) (960, 10)\n"
     ]
    }
   ],
   "source": [
    "DATA_DIR = 'MNIST'\n",
    "X, y = load_data(DATA_DIR)\n",
    "\n",
    "np.random.seed(5487) # set random seed\n",
    "x_train, x_test, y_train, y_test = split_train_test(X, y, test_size=0.25)\n",
    "print(x_train.shape, y_train.shape)\n",
    "print(x_test.shape, y_test.shape)\n",
    "\n",
    "# one-hot vector\n",
    "y_train = one_hot(y_train)\n",
    "y_test = one_hot(y_test)\n",
    "\n",
    "# normalize\n",
    "x_train = x_train/255.\n",
    "x_test = x_test/255.\n",
    "\n",
    "print(x_train.shape, y_train.shape)\n",
    "print(x_test.shape, y_test.shape)"
   ]
  },
  {
   "cell_type": "code",
   "execution_count": 55,
   "metadata": {},
   "outputs": [],
   "source": [
    "# answer = normal_equation_ridge(x_train, y_train, lamda=5)\n",
    "# bad = least_square(x_train, y_train)\n",
    "# # print(answer.shape)\n",
    "\n",
    "# y_pred = predict(x_train, answer)\n",
    "# y_pred = np.argmax(y_pred, axis=1)\n",
    "# y_train = np.argmax(y_train, axis=1)\n",
    "\n",
    "# # print(y_pred.shape)\n",
    "# # print(y_train.shape)\n",
    "\n",
    "# # accuracy\n",
    "# acc = np.sum(y_pred==y_train)/len(y_train)\n",
    "# print('Accuracy: {}'.format(acc))\n",
    "# # loss\n",
    "# loss = np.sum((y_pred-y_train)**2)/len(y_train)\n",
    "# print('Loss: {}'.format(loss))"
   ]
  },
  {
   "cell_type": "code",
   "execution_count": 56,
   "metadata": {},
   "outputs": [
    {
     "name": "stdout",
     "output_type": "stream",
     "text": [
      "Without regularization\n",
      "Accuracy: 0.5510416666666667\n",
      "Loss: 8.040625\n",
      "--------------------------------------------------\n",
      "With regularization\n",
      "Accuracy: 0.7458333333333333\n",
      "Loss: 4.357291666666667\n"
     ]
    }
   ],
   "source": [
    "answer = normal_equation_ridge(x_train, y_train, lamda=5)\n",
    "bad = least_square(x_train, y_train)\n",
    "# print(answer.shape)\n",
    "\n",
    "y_bad = predict(x_test, bad)\n",
    "y_pred = predict(x_test, answer)\n",
    "y_bad = np.argmax(y_bad, axis=1)\n",
    "y_pred = np.argmax(y_pred, axis=1)\n",
    "y_test = np.argmax(y_test, axis=1)\n",
    "\n",
    "# print(y_pred.shape)\n",
    "# print(y_test.shape)\n",
    "\n",
    "print(\"Without regularization\")\n",
    "# accuracy\n",
    "b_acc = np.sum(y_bad==y_test)/len(y_test)\n",
    "print('Accuracy: {}'.format(b_acc))\n",
    "# mean square error\n",
    "b_loss = np.sum((y_bad-y_test)**2)/len(y_test)\n",
    "print('Loss: {}'.format(b_loss))\n",
    "print('-' * 50)\n",
    "print(\"With regularization\")\n",
    "# accuracy\n",
    "acc = np.sum(y_pred==y_test)/len(y_test)\n",
    "print('Accuracy: {}'.format(acc))\n",
    "# mean square error\n",
    "loss = np.sum((y_pred-y_test)**2)/len(y_test)\n",
    "print('Loss: {}'.format(loss))"
   ]
  },
  {
   "cell_type": "markdown",
   "metadata": {},
   "source": [
    "<style>\n",
    ".blue{\n",
    "    color: skyblue;\n",
    "}\n",
    ".bold{\n",
    "    font-weight: bold;\n",
    "}\n",
    ".red{\n",
    "    color: red;\n",
    "}\n",
    "</style>\n",
    "\n",
    "#### 1.2 \n",
    "Implement the <span class=\"blue\">logistic regression</span> model using <span class=\"red\">batch GD</span> (batch gradient descent), <span class=\"red\">SGD</span>\n",
    "(stochastic gradient descent) and <span class=\"red\">mini-batch SGD</span> with softmax activation. Set the initial\n",
    "weight vector $\\textbf{w}_k = [w_{k1}, . . . , w_{kF}]$ to be a <span class=\"blue\">zero vector</span> where $F$ is the number of features and $k$ is the number of classes.\n",
    "\n",
    "\n",
    "<center>\n",
    "<table>\n",
    "    <tr>\n",
    "        <th>\n",
    "            Algorithms\n",
    "        </th>\n",
    "        <th>\n",
    "            Batch size\n",
    "        </th>\n",
    "        <th>\n",
    "            Iterations in one epoch\n",
    "        </th>\n",
    "    </tr>\n",
    "    <tr>\n",
    "        <td>\n",
    "            batch GD\n",
    "        </td>\n",
    "        <td>\n",
    "            N\n",
    "        </td>\n",
    "        <td>\n",
    "            1\n",
    "        </td>\n",
    "    </tr>\n",
    "    <tr>\n",
    "        <td>\n",
    "            SGD\n",
    "        </td>\n",
    "        <td>\n",
    "            1\n",
    "        </td>\n",
    "        <td>\n",
    "            N\n",
    "        </td>\n",
    "    </tr>\n",
    "    <tr>\n",
    "        <td>\n",
    "            mini-batch SGD\n",
    "        </td>\n",
    "        <td>\n",
    "            B\n",
    "        </td>\n",
    "        <td>\n",
    "            N/B\n",
    "        </td>\n",
    "    </tr>\n",
    "</table>\n",
    "</center>\n",
    "\n",
    "The error function is defined as\n",
    "$$\n",
    "    E(\\textbf{w}) = - \\sum^{N}_{m=1}\\sum^K_{k=1}t_{nk}\\log y_{nk}\n",
    "$$\n",
    "\n",
    "(a) **Plot** the <span class=\"red\">learning curves</span> of the loss function and the <span class=\"red\">classification accuracy</span> versus the\n",
    "number of epochs until convergence for training data as well as test data."
   ]
  },
  {
   "cell_type": "code",
   "execution_count": 57,
   "metadata": {},
   "outputs": [
    {
     "name": "stdout",
     "output_type": "stream",
     "text": [
      "(320, 784) (320,)\n",
      "(960, 784) (960,)\n",
      "(320, 784) (320, 10)\n",
      "(960, 784) (960, 10)\n"
     ]
    }
   ],
   "source": [
    "DATA_DIR = 'MNIST'\n",
    "X, y = load_data(DATA_DIR)\n",
    "\n",
    "np.random.seed(5487) # set random seed\n",
    "x_train, x_test, y_train, y_test = split_train_test(X, y, test_size=0.25)\n",
    "print(x_train.shape, y_train.shape)\n",
    "print(x_test.shape, y_test.shape)\n",
    "\n",
    "# one-hot vector\n",
    "y_train = one_hot(y_train)\n",
    "y_test = one_hot(y_test)\n",
    "\n",
    "# normalize\n",
    "x_train = x_train/255.\n",
    "x_test = x_test/255.\n",
    "\n",
    "print(x_train.shape, y_train.shape)\n",
    "print(x_test.shape, y_test.shape)"
   ]
  },
  {
   "cell_type": "code",
   "execution_count": 58,
   "metadata": {},
   "outputs": [],
   "source": [
    "def softmax(inputs):\n",
    "    exp_values = np.exp(inputs - np.max(inputs, axis=1, keepdims=True)) # prevent overflow\n",
    "    prob = exp_values / np.sum(exp_values, axis=1, keepdims=True) # normalize\n",
    "    return prob\n",
    "\n",
    "def accuracy(y_pred, y_true):\n",
    "    if len(y_pred.shape) == 2:\n",
    "        y_pred = np.argmax(y_pred, axis=1)\n",
    "    if len(y_true.shape) == 2:\n",
    "        y_true = np.argmax(y_true, axis=1)\n",
    "    return np.sum(y_pred==y_true)/len(y_true)\n",
    "\n",
    "def crossentropy_loss(y_pred, y_true):\n",
    "    y_pred_clipped = np.clip(y_pred, 1e-15, 1 - 1e-15) # prevent overflow\n",
    "    return np.sum(-(y_true * np.log(y_pred_clipped))) / len(y_pred) # normalize\n",
    "\n",
    "# SGD, batch_GD, Mini-batch GD\n",
    "class SGD:\n",
    "    def __init__(self, learning_rate=0.001):\n",
    "        self.lr = learning_rate\n",
    "\n",
    "    def update_param(self, model, X, y):\n",
    "        y_pred = softmax(np.dot(X, model.weights)+model.bias)\n",
    "        \n",
    "        dw = (1/model.sample_size) * np.dot(X.T, (y_pred - y))\n",
    "        db = (1/model.sample_size) * np.sum(y_pred - y)\n",
    "\n",
    "        model.weights -= self.lr * dw\n",
    "        model.bias -= self.lr * db\n",
    "\n",
    "class LogisticRegression:\n",
    "    \"\"\"Logistic Regression\n",
    "    initial weight vector to be a 'zero vector'.\n",
    "\n",
    "    \"\"\"\n",
    "    def __init__(self, *, optimizer):\n",
    "        self.weights = None\n",
    "        self.bias = None\n",
    "        self.optimizer = optimizer\n",
    "    \n",
    "    def fit(self, model, X, y, test_data: tuple=None, num_classes=10, batch_size=1, \n",
    "            epochs=100, imfo_print=None, shuffle=False, runtime: bool=False):\n",
    "\n",
    "        self.X = X\n",
    "        self.y = y\n",
    "\n",
    "        if test_data is not None:\n",
    "            x_test, y_test = test_data\n",
    "    \n",
    "        self.sample_size, self.n_features = X.shape\n",
    "        self.num_classes = num_classes\n",
    "        self.batch_size = batch_size\n",
    "        self.epochs = epochs\n",
    "        self.totol_steps = int(np.ceil(self.sample_size/batch_size))\n",
    "\n",
    "        self.weights = np.zeros((self.n_features, self.num_classes))\n",
    "        self.bias = 0\n",
    "\n",
    "        self.total_training_loss = []\n",
    "        self.total_testing_loss = []\n",
    "        self.total_training_acc = []\n",
    "        self.total_testing_acc = []\n",
    "\n",
    "        # shuffle\n",
    "        idx = np.arange(self.sample_size)\n",
    "        np.random.shuffle(idx)\n",
    "        X = X[idx].copy()\n",
    "        y = y[idx].copy()\n",
    "\n",
    "        # get batch data generator\n",
    "        X = list(X[self.batch_size*idx:self.batch_size*(idx+1)] for idx in range(self.totol_steps)) # 10x32x784\n",
    "        y = list(y[self.batch_size*idx:self.batch_size*(idx+1)] for idx in range(self.totol_steps)) # 10x32\n",
    "\n",
    "        for epoch in range(epochs):\n",
    "            for x, label in zip(X, y):\n",
    "                self.optimizer.update_param(model, x, label)\n",
    "            \n",
    "            # train\n",
    "            y_pred = softmax((np.dot(self.X, self.weights)+self.bias))\n",
    "            training_loss = crossentropy_loss(y_pred, self.y)\n",
    "            training_acc = accuracy(y_pred, self.y)\n",
    "            self.total_training_loss.append(training_loss)\n",
    "            self.total_training_acc.append(training_acc)\n",
    "\n",
    "            # test\n",
    "            y_pred = softmax((np.dot(x_test, self.weights)+self.bias))\n",
    "            testing_loss = crossentropy_loss(y_pred, y_test)\n",
    "            testing_acc = accuracy(y_pred, y_test)\n",
    "            self.total_testing_loss.append(testing_loss)\n",
    "            self.total_testing_acc.append(testing_acc)\n",
    "\n",
    "        print(\"Best training acc: \", max(self.total_training_acc))\n",
    "        print(\"Best training loss: \", min(self.total_training_loss))\n",
    "        print(\"-\" * 50)\n",
    "        print(\"Best testing acc: \", max(self.total_testing_acc))\n",
    "        print(\"Best testing loss: \", min(self.total_testing_loss))\n",
    "\n",
    "    def predict(self, X):\n",
    "        return softmax(np.dot(X, self.weights)+self.bias)"
   ]
  },
  {
   "cell_type": "markdown",
   "metadata": {},
   "source": [
    "<h4> Batch GD </h4>"
   ]
  },
  {
   "cell_type": "code",
   "execution_count": 59,
   "metadata": {},
   "outputs": [
    {
     "name": "stdout",
     "output_type": "stream",
     "text": [
      "Best training acc:  0.99375\n",
      "Best training loss:  0.1407920531941389\n",
      "--------------------------------------------------\n",
      "Best testing acc:  0.8385416666666666\n",
      "Best testing loss:  0.5511844793879939\n"
     ]
    }
   ],
   "source": [
    "optimizer = SGD(learning_rate=0.3)\n",
    "Batch_GD = LogisticRegression(optimizer=optimizer)\n",
    "Batch_GD.fit(Batch_GD, x_train, y_train, test_data=(x_test, y_test), batch_size=len(x_train), epochs=150, imfo_print=15)"
   ]
  },
  {
   "cell_type": "code",
   "execution_count": 60,
   "metadata": {},
   "outputs": [
    {
     "data": {
      "image/png": "[encoded data removed]",
      "text/plain": [
       "<Figure size 1080x432 with 2 Axes>"
      ]
     },
     "metadata": {
      "needs_background": "light"
     },
     "output_type": "display_data"
    }
   ],
   "source": [
    "fig, ax = plt.subplots(1, 2, figsize=(15,6))\n",
    "for p in range(2):\n",
    "    if p == 0:\n",
    "        ax[p].plot(range(Batch_GD.epochs), Batch_GD.total_training_loss, 'b-', label='train')\n",
    "        ax[p].plot(range(Batch_GD.epochs), Batch_GD.total_testing_loss, 'r-', label='test')\n",
    "        ax[p].set_xlabel('Epochs')\n",
    "        ax[p].set_ylabel('Loss')\n",
    "        ax[p].set_title('Batch GD Loss')\n",
    "        ax[p].legend(loc='upper right')\n",
    "    else:\n",
    "        ax[p].plot(range(Batch_GD.epochs), Batch_GD.total_training_acc, 'b-', label='train')\n",
    "        ax[p].plot(range(Batch_GD.epochs), Batch_GD.total_testing_acc, 'r-', label='test')\n",
    "        ax[p].set_xlabel('Epochs')\n",
    "        ax[p].set_ylabel('Accuracy')\n",
    "        ax[p].set_title('Batch GD Accuracy')\n",
    "        ax[p].legend(loc='lower right')"
   ]
  },
  {
   "cell_type": "markdown",
   "metadata": {},
   "source": [
    "#### Mini-batch SGD"
   ]
  },
  {
   "cell_type": "code",
   "execution_count": 61,
   "metadata": {},
   "outputs": [
    {
     "name": "stdout",
     "output_type": "stream",
     "text": [
      "Best training acc:  0.99375\n",
      "Best training loss:  0.1405156151014494\n",
      "--------------------------------------------------\n",
      "Best testing acc:  0.8385416666666666\n",
      "Best testing loss:  0.5516081427875403\n"
     ]
    }
   ],
   "source": [
    "optimizer = SGD(learning_rate=0.3)\n",
    "Mini_batchSGD = LogisticRegression(optimizer=optimizer)\n",
    "Mini_batchSGD.fit(Mini_batchSGD, x_train, y_train, test_data=(x_test, y_test), batch_size=32, epochs=150, imfo_print=15)"
   ]
  },
  {
   "cell_type": "code",
   "execution_count": 62,
   "metadata": {},
   "outputs": [
    {
     "data": {
      "image/png": "[encoded data removed]",
      "text/plain": [
       "<Figure size 1080x432 with 2 Axes>"
      ]
     },
     "metadata": {
      "needs_background": "light"
     },
     "output_type": "display_data"
    }
   ],
   "source": [
    "fig, ax = plt.subplots(1, 2, figsize=(15,6))\n",
    "for p in range(2):\n",
    "    if p == 0:\n",
    "        ax[p].plot(range(Mini_batchSGD.epochs), Mini_batchSGD.total_training_loss, 'b-', label='train')\n",
    "        ax[p].plot(range(Mini_batchSGD.epochs), Mini_batchSGD.total_testing_loss, 'r-', label='test')\n",
    "        ax[p].set_xlabel('Epochs')\n",
    "        ax[p].set_ylabel('Loss')\n",
    "        ax[p].set_title('Mini_batch SGD Loss')\n",
    "        ax[p].legend(loc='upper right')\n",
    "    else:\n",
    "        ax[p].plot(range(Mini_batchSGD.epochs), Mini_batchSGD.total_training_acc, 'b-', label='train')\n",
    "        ax[p].plot(range(Mini_batchSGD.epochs), Mini_batchSGD.total_testing_acc, 'r-', label='test')\n",
    "        ax[p].set_xlabel('Epochs')\n",
    "        ax[p].set_ylabel('Accuracy')\n",
    "        ax[p].set_title('Mini_batch SGD Accuracy')\n",
    "        ax[p].legend(loc='lower right')"
   ]
  },
  {
   "cell_type": "markdown",
   "metadata": {},
   "source": [
    "#### SGD"
   ]
  },
  {
   "cell_type": "code",
   "execution_count": 63,
   "metadata": {},
   "outputs": [
    {
     "name": "stdout",
     "output_type": "stream",
     "text": [
      "Best training acc:  0.99375\n",
      "Best training loss:  0.14047373868113883\n",
      "--------------------------------------------------\n",
      "Best testing acc:  0.8395833333333333\n",
      "Best testing loss:  0.5510341666905046\n"
     ]
    }
   ],
   "source": [
    "optimizer = SGD(learning_rate=0.3)\n",
    "model_SGD = LogisticRegression(optimizer=optimizer)\n",
    "model_SGD.fit(model_SGD, x_train, y_train, test_data=(x_test, y_test), batch_size=1, epochs=150, imfo_print=15)"
   ]
  },
  {
   "cell_type": "code",
   "execution_count": 64,
   "metadata": {},
   "outputs": [
    {
     "data": {
      "image/png": "[encoded data removed]",
      "text/plain": [
       "<Figure size 1080x432 with 2 Axes>"
      ]
     },
     "metadata": {
      "needs_background": "light"
     },
     "output_type": "display_data"
    }
   ],
   "source": [
    "fig, ax = plt.subplots(1, 2, figsize=(15,6))\n",
    "for p in range(2):\n",
    "    if p == 0:\n",
    "        ax[p].plot(range(model_SGD.epochs), model_SGD.total_training_loss, 'b-', label='train')\n",
    "        ax[p].plot(range(model_SGD.epochs), model_SGD.total_testing_loss, 'r-', label='test')\n",
    "        ax[p].set_xlabel('Epochs')\n",
    "        ax[p].set_ylabel('Loss')\n",
    "        ax[p].set_title('SGD Loss')\n",
    "        ax[p].legend(loc='upper right')\n",
    "    else:\n",
    "        ax[p].plot(range(model_SGD.epochs), model_SGD.total_training_acc, 'b-', label='train')\n",
    "        ax[p].plot(range(model_SGD.epochs), model_SGD.total_testing_acc, 'r-', label='test')\n",
    "        ax[p].set_xlabel('Epochs')\n",
    "        ax[p].set_ylabel('Accuracy')\n",
    "        ax[p].set_title('SGD Accuracy')\n",
    "        ax[p].legend(loc='lower right')"
   ]
  },
  {
   "cell_type": "markdown",
   "metadata": {},
   "source": [
    "<center>\n",
    "<table>\n",
    "    <tr>\n",
    "        <th>\n",
    "            Method\n",
    "        </th>\n",
    "        <th>\n",
    "            Figure\n",
    "        </th>\n",
    "    </tr>\n",
    "    <tr>\n",
    "        <td>\n",
    "            Batch GD\n",
    "        </td>\n",
    "        <td>\n",
    "            <img src = \"1.2(1).png\" width=\"800\">\n",
    "        </td>\n",
    "    </tr>\n",
    "    <tr>\n",
    "        <td>\n",
    "            Mini-batch SGD\n",
    "        </td>\n",
    "        <td>\n",
    "            <img src = \"1.2(2).png\" width=\"800\">\n",
    "        </td>\n",
    "    </tr>\n",
    "    <tr>\n",
    "        <td>\n",
    "            SGD\n",
    "        </td>\n",
    "        <td>\n",
    "            <img src = \"1.2(3).png\" width=\"800\">\n",
    "        </td>\n",
    "    </tr>\n",
    "</table>\n",
    "</center>"
   ]
  },
  {
   "cell_type": "markdown",
   "metadata": {},
   "source": [
    "<style>\n",
    ".red{\n",
    "    color: red;\n",
    "}\n",
    "</style>\n",
    "(b) **Show** the <span class=\"red\">final</span> classification accuracy and loss value of training and test data."
   ]
  },
  {
   "cell_type": "markdown",
   "metadata": {},
   "source": [
    "<center>\n",
    "<table>\n",
    "    <tr>\n",
    "        <th>\n",
    "            Method\n",
    "        </th>\n",
    "        <th>\n",
    "            Final result\n",
    "        </th>\n",
    "    </tr>\n",
    "    <tr>\n",
    "        <td>\n",
    "            Batch GD\n",
    "        </td>\n",
    "        <td>\n",
    "            <img src = \"batchGD.png\" width=\"500\">\n",
    "        </td>\n",
    "    </tr>\n",
    "    <tr>\n",
    "        <td>\n",
    "            Mini-batch SGD\n",
    "        </td>\n",
    "        <td>\n",
    "            <img src = \"minibatchSGD.png\" width=\"500\">\n",
    "        </td>\n",
    "    </tr>\n",
    "    <tr>\n",
    "        <td>\n",
    "            SGD\n",
    "        </td>\n",
    "        <td>\n",
    "            <img src = \"SGD.png\" width=\"500\">\n",
    "        </td>\n",
    "    </tr>\n",
    "</table>\n",
    "</center>"
   ]
  },
  {
   "cell_type": "markdown",
   "metadata": {},
   "source": [
    "(c) Based on your observation about the different algorithms (batch GD, SGD and mini-batch SGD), please **make some discussion.**"
   ]
  },
  {
   "cell_type": "markdown",
   "metadata": {},
   "source": [
    "##### **Gradient descent**\n",
    "\n",
    "Gradient descent is a method of finding the best solution in optimization theory, also it usually uses as backpropagation for updating weight.\n",
    "\n",
    "The main thing is to find the local minimum of the function by gradient descent.\n",
    "\n",
    "$$\n",
    "    \\textbf{x}^{(t+1)} = \\textbf{x}^{(t)} - \\gamma \\nabla f(\\textbf{x}^{(t)})\n",
    "$$\n",
    "\n",
    "The formula is updated in the direction of the gradient, and how much to update at a time is controlled by the learning rate $\\gamma$.\n",
    "\n",
    "##### **Batch gradient descent**\n",
    "\n",
    "It means that all samples are trained in one iteration, and just keep iterating like this.\n",
    "\n",
    "##### **Mini-batch gradient descent**\n",
    "\n",
    "With mini-batch gradient descent update parameters with a fraction of samples at a time, and the batch size is determined by developers.\n",
    "\n",
    "It's a compromise between batch gradient descent and stochastic gradient descent.\n",
    "\n",
    "##### **Stochastic gradient descent (SGD)**\n",
    "\n",
    "The model is trained by only one sample.\n",
    "\n",
    "##### **Comparison Chart**\n",
    "\n",
    "<center>\n",
    "    <table>\n",
    "        <tr>\n",
    "            <th>\n",
    "                Method\n",
    "            </th>\n",
    "            <th>\n",
    "                Advantages\n",
    "            </th>\n",
    "            <th>\n",
    "                Drawbacks\n",
    "            </th>\n",
    "        </tr>\n",
    "        <tr>\n",
    "            <td>\n",
    "                Batch GD\n",
    "            </td>\n",
    "            <td>\n",
    "                Ideally, the global optimum can be reached after enough iterations.\n",
    "            </td>\n",
    "            <td>\n",
    "                If the dataset is too large. The memory size can't put the whole dataset for training the model. <br><br>\n",
    "                The computation will take too much time for each iteration.\n",
    "            </td>\n",
    "        </tr>\n",
    "        <tr>\n",
    "            <td>\n",
    "                Mini-batch SGD\n",
    "            </td>\n",
    "            <td>\n",
    "                It's a compromise between batch gradient descent and stochastic gradient descent.\n",
    "            </td>\n",
    "            <td>\n",
    "                It's a compromise between batch gradient descent and stochastic gradient descent.\n",
    "            </td>\n",
    "        </tr>\n",
    "        <tr>\n",
    "            <td>\n",
    "                SGD\n",
    "            </td>\n",
    "            <td>\n",
    "                The method accelerate the convergence speed and solve the problem <br>\n",
    "                that a large amount of data cannot be stuffed into the memory at one time.\n",
    "            </td>\n",
    "            <td>\n",
    "                It will let the weight convergences instability. So the final result may not be the best, like batch gradient descent.\n",
    "            </td>\n",
    "    </tr>\n",
    "    </table>\n",
    "    <br>\n",
    "        <img src = \"figure1.png\" width=\"800\">\n",
    "    <br>\n",
    "        <img src = \"figure2.png\" width=\"800\">\n",
    "    </center>"
   ]
  },
  {
   "cell_type": "markdown",
   "metadata": {},
   "source": [
    "#### 1.3 \n",
    "**Make some discussion** about the difference between the results of 1.1 and 1.2."
   ]
  },
  {
   "cell_type": "markdown",
   "metadata": {},
   "source": [
    "<center>\n",
    "<table>\n",
    "    <tr>\n",
    "        <th>\n",
    "            Method\n",
    "        </th>\n",
    "        <th>\n",
    "            Final result\n",
    "        </th>\n",
    "    </tr>\n",
    "    <tr>\n",
    "        <td>\n",
    "            Least square solution\n",
    "        </td>\n",
    "        <td>\n",
    "            <img src = \"lsq.png\" width=\"500\">\n",
    "        </td>\n",
    "    </tr>\n",
    "    <tr>\n",
    "        <td>\n",
    "            Batch GD\n",
    "        </td>\n",
    "        <td>\n",
    "            <img src = \"batchGD.png\" width=\"500\">\n",
    "        </td>\n",
    "    </tr>\n",
    "    <tr>\n",
    "        <td>\n",
    "            Mini-batch SGD\n",
    "        </td>\n",
    "        <td>\n",
    "            <img src = \"minibatchSGD.png\" width=\"500\">\n",
    "        </td>\n",
    "    </tr>\n",
    "    <tr>\n",
    "        <td>\n",
    "            SGD\n",
    "        </td>\n",
    "        <td>\n",
    "            <img src = \"SGD.png\" width=\"500\">\n",
    "        </td>\n",
    "    </tr>\n",
    "</table>\n",
    "</center>\n",
    "\n",
    "**Least square solution**: is an optimization solution to find the best fit line/curve to your numerical data.\n",
    "\n",
    "**Gradient descent**: is a method of finding the best solution in optimization theory.\n",
    "\n",
    "As we can see, both testing accuracy and training accuracy with gradient descent method have better result.\n",
    "\n",
    "Since, gradient descent is an algorithm for approximately constructing solutions to optimization problems. \n",
    "\n",
    "The advantage is that it can be applied to any objective function, and gradient descent is one way to get at least a local optimum.\n",
    "\n",
    "With least square solution, we may know that squared distance may not be the right objective function for your problem.\n",
    "\n",
    "After all, gradient descent might be a good choice since it can be used in general."
   ]
  },
  {
   "cell_type": "markdown",
   "metadata": {},
   "source": [
    "<style>\n",
    ".blue{\n",
    "    color: skyblue;\n",
    "}\n",
    ".bold{\n",
    "    font-weight: bold;\n",
    "}\n",
    ".red{\n",
    "    color: red;\n",
    "}\n",
    "</style>\n",
    "\n",
    "<h2>2 Gaussian Process for Regression</h2>\n",
    "In this exercise, you will implement Gaussian process (GP) for regression. \n",
    "\n",
    "The files <span class=\"red\">x.csv</span> and <span class=\"red\">t.csv</span> have input data $\\textbf{x}:\\{x_1, x_2,...,x_{300}\\}$ , $0 < x_i < 10$ and the corresponding target data $t : \\{t_1, t_2, . . . , t_{300}\\}$ respectively. \n",
    "\n",
    "Please take the first 150 points as the training set and the rest\n",
    "as the test set. A regression function $y(\\cdot)$ is used to express the target value by\n",
    "$$\n",
    "    t_n = y(x_n) +\\epsilon_n\n",
    "$$\n",
    "where the  noisy signal $\\epsilon_n$ is Gaussian distributed, $\\epsilon_n \\sim \\mathcal{N}(0, \\beta^{-1})$ with $\\beta^{-1} = 1$.\n",
    "\n",
    "#### 2.1\n",
    "Please construct a kernel function using the basis functions in the following polynomial\n",
    "model and implement the Gaussian process for regression.\n",
    "$$\n",
    "    y(\\textbf{x}, \\textbf{w}) = w_0 + \\sum_{i = 1}^D w_ix_i + \\sum_{i=1}^D\\sum_{j=1}^D w_{ij}x_ix_j \\ \\ (M = 2)\n",
    "$$\n",
    "Please **plot** the prediction result like Figure 6.8 of textbook for training set but <span class=\"red\">one standard deviation</span> instead of two and without the green curve. \n",
    "\n",
    "The red line shows the mean $m(\\cdot)$ of the Gaussian process predictive distribution. \n",
    "\n",
    "The pink region corresponds to the band with positive and negative of one standard deviation. Training data points are\n",
    "shown in blue. \n",
    "\n",
    "Besides, please **show** the corresponding <span class=\"blue\">root-mean-square errors</span> (shown below) for both training and test sets in **.ipynb** file.\n",
    "$$\n",
    "    E_{RMS} = \\sqrt{\\frac{1}{N}(m(x_n) - t_n)^2}\n",
    "$$"
   ]
  },
  {
   "cell_type": "code",
   "execution_count": 65,
   "metadata": {},
   "outputs": [],
   "source": [
    "def load_data_2():\n",
    "    data = pd.read_csv('x.csv', header=None)\n",
    "    target = pd.read_csv('t.csv', header=None)\n",
    "    return data, target\n",
    "\n",
    "def RMS(y_true, y_pred):\n",
    "    return np.sqrt(np.mean((y_true - y_pred)**2))\n"
   ]
  },
  {
   "cell_type": "code",
   "execution_count": 66,
   "metadata": {},
   "outputs": [],
   "source": [
    "class GKP1:\n",
    "    \"\"\"thete is hyper-parameters for kernel function\"\"\"\n",
    "    def __init__(self, beta=1):\n",
    "        self.beta = beta\n",
    "    \n",
    "    def fit(self, X, y):\n",
    "        self.sample_size, self.n_features = X.shape\n",
    "        self.X = X\n",
    "        self.y = y\n",
    "    \n",
    "    def predict(self, X):\n",
    "        mean = []\n",
    "        std = []\n",
    "        for x in X:\n",
    "           m, v = self._predict(x)\n",
    "           mean.append(m.item())\n",
    "           std.append(v)\n",
    "        return np.array(mean), np.array(std)\n",
    "    \n",
    "    def _predict(self, x):\n",
    "        \"\"\"predict for singal data\"\"\"\n",
    "        K = self.K(x)\n",
    "        C = self.C()\n",
    "        c = self.c(x)\n",
    "\n",
    "        mean = (np.dot(K.T, np.linalg.inv(C))).dot(self.y)\n",
    "        std = np.sqrt(c - np.dot(np.dot(K.T, np.linalg.inv(C)), K))\n",
    "\n",
    "        return mean, std\n",
    "    \n",
    "    def K(self, x):\n",
    "        \"\"\"K為預測資料和所有訓練資料做成的kernel\"\"\"\n",
    "        return np.array([self.polynomial(x, point) for point in self.X])\n",
    "    \n",
    "    def C(self):\n",
    "        \"\"\"計算訓練之間的相關性\"\"\"\n",
    "        c = np.zeros((self.sample_size, self.sample_size))\n",
    "        for n in range(self.sample_size):\n",
    "            for m in range(self.sample_size):\n",
    "                c[n, m] = self.polynomial(self.X[n], self.X[m]) + self.beta**-1 * (1 if n==m else 0)\n",
    "        return np.array(c)\n",
    "    \n",
    "    def c(self, x):\n",
    "        \"\"\"預測資料自己和自己做成的kernel\"\"\"\n",
    "        return self.polynomial(x, x) + self.beta**-1\n",
    "\n",
    "    @staticmethod\n",
    "    def polynomial(xn, xm):\n",
    "        \"\"\"一次各一筆資料算kernel\"\"\"\n",
    "        return (1 + np.dot(xn.T, xm))**2\n"
   ]
  },
  {
   "cell_type": "code",
   "execution_count": 67,
   "metadata": {},
   "outputs": [
    {
     "data": {
      "image/png": "[encoded data removed]",
      "text/plain": [
       "<Figure size 576x432 with 1 Axes>"
      ]
     },
     "metadata": {
      "needs_background": "light"
     },
     "output_type": "display_data"
    }
   ],
   "source": [
    "data, target = load_data_2()\n",
    "\n",
    "x_train, x_test, y_train, y_test = data.values[:150], data.values[150:], target.values[:150], target.values[150:] # 150 training samples, 150 testing samples\n",
    "\n",
    "x = np.linspace(0, 10, 150).reshape(-1, 1)\n",
    "\n",
    "model = GKP1() \n",
    "model.fit(x_train, y_train)   \n",
    "mean, std = model.predict(x)\n",
    "\n",
    "plt.figure(figsize=(8, 6))\n",
    "plt.plot(x_train, y_train, 'bo', label='train')\n",
    "plt.plot(x, mean, '-', c='r')\n",
    "plt.fill_between(x.flatten(), mean+std, mean-std, color='pink')\n",
    "plt.xlabel('X')\n",
    "plt.ylabel('y')\n",
    "plt.legend()\n",
    "\n",
    "plt.savefig('GP.png')\n",
    "plt.show()"
   ]
  },
  {
   "cell_type": "code",
   "execution_count": 68,
   "metadata": {},
   "outputs": [
    {
     "name": "stdout",
     "output_type": "stream",
     "text": [
      "Training RMS 3.717, Testing RMS 4.019\n"
     ]
    }
   ],
   "source": [
    "model = GKP1()\n",
    "model.fit(x_train, y_train)\n",
    "\n",
    "# train\n",
    "mean, _ = model.predict(x_train)\n",
    "rmstrain = RMS(y_train.flatten(), mean)\n",
    "\n",
    "# test\n",
    "mean, _ = model.predict(x_test)\n",
    "rmstest = RMS(y_test.flatten(), mean) \n",
    "\n",
    "print(f'Training RMS {rmstrain:.3f}, Testing RMS {rmstest:.3f}')"
   ]
  },
  {
   "cell_type": "markdown",
   "metadata": {},
   "source": [
    "**Gaussian process predictive distribution**\n",
    "\n",
    "<center>\n",
    "    <img src=\"GP.png\" width=\"700\">\n",
    "</center>"
   ]
  },
  {
   "cell_type": "markdown",
   "metadata": {},
   "source": [
    "<style>\n",
    ".blue{\n",
    "    color: skyblue;\n",
    "}\n",
    ".bold{\n",
    "    font-weight: bold;\n",
    "}\n",
    ".red{\n",
    "    color: red;\n",
    "}\n",
    "</style>\n",
    "#### 2.2\n",
    "Repeat 1 by using the widely used <span class=\"blue\">exponential-quadratic kernel function</span> given by\n",
    "$$\n",
    "    k(\\textbf{x}_n, \\textbf{x}_m) = \\theta_0 \\exp \\{-\\frac{\\theta_1}{2} \\| \\textbf{x}_n - \\textbf{x}_m \\|^2 \\} + \\theta_2 + \\theta_3 \\textbf{x}_n^T \\textbf{x}_m\n",
    "$$\n",
    "where the hyperparameters $\\textbf{\\textit{θ}} = \\{θ_0, θ_1, θ_2, θ_3\\}$ are fixed. Please use the training set with <span class=\"blue\">four different combinations</span>\n",
    "* linear kernel $\\textbf{\\textit{θ}} = \\{0, 0, 0, 1\\}$\n",
    "* squared exponential kernel $\\textbf{\\textit{θ}} = \\{1, 1, 0, 0\\}$\n",
    "* exponential-quadratic kernel $\\textbf{\\textit{θ}} = \\{1, 1, 0, 16\\}$\n",
    "* exponential-quadratic kernel $\\textbf{\\textit{θ}} = \\{1, 2, 16, 0\\}$\n",
    "\n",
    "Each combination needs to **plot** the prediction result where the **title of the figure** should be the value of hyperparameter used in the model and \n",
    "\n",
    "**show** the corresponding root-mean-square error. An example of figure is provided below.\n",
    "<center>\n",
    "    <img src=\"2.2.jpg\">\n",
    "</center>"
   ]
  },
  {
   "cell_type": "code",
   "execution_count": 69,
   "metadata": {},
   "outputs": [],
   "source": [
    "class GKP2:\n",
    "    \"\"\"thete is hyper-parameters for kernel function\"\"\"\n",
    "    def __init__(self, theta, beta=1):\n",
    "        self.theta = theta\n",
    "        self.beta = beta\n",
    "    \n",
    "    def fit(self, X, y):\n",
    "        self.sample_size, self.n_features = X.shape\n",
    "        self.X = X\n",
    "        self.y = y\n",
    "    \n",
    "    def predict(self, X):\n",
    "        mean = []\n",
    "        std = []\n",
    "        for x in X:\n",
    "           m, v = self._predict(x)\n",
    "           mean.append(m.item())\n",
    "           std.append(v)\n",
    "        return np.array(mean), np.array(std)\n",
    "    \n",
    "    def _predict(self, x):\n",
    "        \"\"\"predict for singal data\"\"\"\n",
    "        K = self.K(x)\n",
    "        C = self.C()\n",
    "        c = self.c(x)\n",
    "\n",
    "        mean = (np.dot(K.T, np.linalg.inv(C))).dot(self.y)\n",
    "        std = np.sqrt(c - np.dot(np.dot(K.T, np.linalg.inv(C)), K))\n",
    "\n",
    "        return mean, std\n",
    "    \n",
    "    def K(self, x):\n",
    "        \"\"\"K為預測資料和所有訓練資料做成的kernel\"\"\"\n",
    "        return np.array([self.exponential_quadratic(x, point, **self.theta) for point in self.X])\n",
    "    \n",
    "    def C(self):\n",
    "        \"\"\"計算訓練之間的相關性\"\"\"\n",
    "        c = np.zeros((self.sample_size, self.sample_size))\n",
    "        for n in range(self.sample_size):\n",
    "            for m in range(self.sample_size):\n",
    "                c[n, m] = self.exponential_quadratic(self.X[n], self.X[m], **self.theta) + self.beta**-1 * (1 if n==m else 0)\n",
    "        return np.array(c)\n",
    "    \n",
    "    def c(self, x):\n",
    "        \"\"\"預測資料自己和自己做成的kernel\"\"\"\n",
    "        return self.exponential_quadratic(x, x, **self.theta) + self.beta**-1\n",
    "\n",
    "    @staticmethod\n",
    "    def exponential_quadratic(xn, xm, *, t0, t1, t2, t3):\n",
    "        \"\"\"一次各一筆資料算kernel\"\"\"\n",
    "        return t0 * np.exp(-0.5 * t1 * np.dot((xn-xm), (xn-xm))) + t2 + t3*np.dot(xn.T, xm)\n"
   ]
  },
  {
   "cell_type": "code",
   "execution_count": 70,
   "metadata": {},
   "outputs": [],
   "source": [
    "# 題目設定的hyper-parameters\n",
    "theta = [\n",
    "    {'t0':0, 't1':0, 't2':0, 't3':1},\n",
    "    {'t0':1, 't1':1, 't2':0, 't3':0},\n",
    "    {'t0':1, 't1':1, 't2':0, 't3':16},\n",
    "    {'t0':1, 't1':2, 't2':16, 't3':0},\n",
    "]\n",
    "x = np.linspace(0, 10, 300).reshape(-1, 1)"
   ]
  },
  {
   "cell_type": "code",
   "execution_count": 71,
   "metadata": {},
   "outputs": [
    {
     "data": {
      "image/png": "[encoded data removed]",
      "text/plain": [
       "<Figure size 576x432 with 1 Axes>"
      ]
     },
     "metadata": {
      "needs_background": "light"
     },
     "output_type": "display_data"
    },
    {
     "data": {
      "image/png": "[encoded data removed]",
      "text/plain": [
       "<Figure size 576x432 with 1 Axes>"
      ]
     },
     "metadata": {
      "needs_background": "light"
     },
     "output_type": "display_data"
    },
    {
     "data": {
      "image/png": "[encoded data removed]",
      "text/plain": [
       "<Figure size 576x432 with 1 Axes>"
      ]
     },
     "metadata": {
      "needs_background": "light"
     },
     "output_type": "display_data"
    },
    {
     "data": {
      "image/png": "[encoded data removed]",
      "text/plain": [
       "<Figure size 576x432 with 1 Axes>"
      ]
     },
     "metadata": {
      "needs_background": "light"
     },
     "output_type": "display_data"
    }
   ],
   "source": [
    "for i in range(len(theta)):\n",
    "    model = GKP2(theta=theta[i]) \n",
    "    model.fit(x_train, y_train)   \n",
    "    mean, std = model.predict(x)\n",
    "\n",
    "    plt.figure(figsize=(8, 6))\n",
    "\n",
    "    plt.plot(x_train, y_train, 'bo', label='train')\n",
    "    plt.plot(x, mean, '-', c='r')\n",
    "    plt.fill_between(x.flatten(), mean+std, mean-std, color='pink')\n",
    "    plt.xlabel('X')\n",
    "    plt.ylabel('y')\n",
    "    plt.title(r'$\\theta$ = '+f'{list(theta[i].values())}')\n",
    "    plt.legend()\n",
    "    title = 'Theta' + str(i+1) + '.png'\n",
    "    plt.savefig(title)\n",
    "    plt.show()"
   ]
  },
  {
   "cell_type": "code",
   "execution_count": 72,
   "metadata": {},
   "outputs": [
    {
     "name": "stdout",
     "output_type": "stream",
     "text": [
      "θ: [0, 0, 0, 1], Training RMS 4.336, Testing RMS 4.379\n",
      "θ: [1, 1, 0, 0], Training RMS 0.956, Testing RMS 0.960\n",
      "θ: [1, 1, 0, 16], Training RMS 0.957, Testing RMS 0.962\n",
      "θ: [1, 2, 16, 0], Training RMS 0.950, Testing RMS 0.971\n"
     ]
    }
   ],
   "source": [
    "for t in theta:\n",
    "    model = GKP2(theta=t)\n",
    "    model.fit(x_train, y_train)\n",
    "    \n",
    "    # train\n",
    "    mean, _ = model.predict(x_train)\n",
    "    rmstrain = RMS(y_train.flatten(), mean)\n",
    "\n",
    "    # test\n",
    "    mean, _ = model.predict(x_test)\n",
    "    rmstest = RMS(y_test.flatten(), mean) \n",
    "\n",
    "    print(f'\\u03B8: {list(t.values())}, Training RMS {rmstrain:.3f}, Testing RMS {rmstest:.3f}')"
   ]
  },
  {
   "cell_type": "markdown",
   "metadata": {},
   "source": [
    "<center>\n",
    "    <img src = \"theta.png\", width=\"700\">\n",
    "</center>"
   ]
  },
  {
   "cell_type": "markdown",
   "metadata": {},
   "source": [
    "**Gaussian process predictive distribution with different kernel**\n",
    "\n",
    "<center>\n",
    "    <table>\n",
    "        <tr>\n",
    "            <th>\n",
    "                Kernel\n",
    "            </th>\n",
    "            <th>\n",
    "                Figure\n",
    "            </th>\n",
    "        </tr>\n",
    "        <tr>\n",
    "            <td>\n",
    "                linear kernel <br>\n",
    "                &theta; = {0, 0, 0, 1}\n",
    "            </td>\n",
    "            <td>\n",
    "                <img src=\"Theta1.png\" width=\"500\">\n",
    "            </td>\n",
    "        </tr>\n",
    "        <tr>\n",
    "            <td>\n",
    "                squared exponential kernel <br>\n",
    "                &theta; = {1, 1, 0, 0}\n",
    "            </td>\n",
    "            <td>\n",
    "                <img src=\"Theta2.png\" width=\"500\">\n",
    "            </td>\n",
    "        </tr>\n",
    "        <tr>\n",
    "            <td>\n",
    "                exponential-quadratic kernel <br>\n",
    "                &theta; = {1, 1, 0, 16}\n",
    "            </td>\n",
    "            <td>\n",
    "                <img src=\"Theta3.png\" width=\"500\">\n",
    "            </td>\n",
    "        </tr>\n",
    "        <tr>\n",
    "            <td>\n",
    "                exponential-quadratic kernel <br>\n",
    "                &theta; = {1, 2, 16, 0}\n",
    "            </td>\n",
    "            <td>\n",
    "                <img src=\"Theta4.png\" width=\"500\">\n",
    "            </td>\n",
    "        </tr>\n",
    "    </table>\n",
    "</center>"
   ]
  },
  {
   "cell_type": "markdown",
   "metadata": {},
   "source": [
    "<style>\n",
    ".blue{\n",
    "    color: skyblue;\n",
    "}\n",
    ".bold{\n",
    "    font-weight: bold;\n",
    "}\n",
    ".red{\n",
    "    color: red;\n",
    "}\n",
    "</style>\n",
    "#### 2.3\n",
    "Try to **tune the hyperparameter** in 2 to find the best combination for the dataset. Use <span class=\"blue\">automatic relevance determination</span> (ARD) in Chapter 6.4.4 of textbook."
   ]
  },
  {
   "cell_type": "code",
   "execution_count": 86,
   "metadata": {},
   "outputs": [],
   "source": [
    "class Ard:\n",
    "    def __init__(self, learning_rate=0.001, max_iter=1000):\n",
    "        self.lr = learning_rate\n",
    "        self.max_iter = max_iter\n",
    "    \n",
    "    def param_differential(self, model, *, t0, t1, t2, t3):\n",
    "        dt0, dt1, dt2, dt3 = [np.empty((model.sample_size, model.sample_size)) for _ in range(4)]\n",
    "        for n in range(model.sample_size):\n",
    "            for m in range(model.sample_size):\n",
    "                dt0[n, m] = np.exp(-0.5 * t1 * ((model.X[n]-model.X[m])**2))\n",
    "                dt1[n, m] = t0 * np.exp(-0.5 * t1 * np.dot((model.X[n]-model.X[m]), (model.X[n]-model.X[m]))) * (-0.5 * np.dot((model.X[n]-model.X[m]), (model.X[n]-model.X[m])))\n",
    "                dt2[n, m] = 1\n",
    "                dt3[n, m] = np.dot(model.X[n], model.X[m])\n",
    "        \n",
    "        return dt0, dt1, dt2, dt3\n",
    "    \n",
    "    def updata_param(self, model):\n",
    "        t0, t1, t2, t3 = model.theta.values()\n",
    "        for _ in range(self.max_iter):\n",
    "            dt0, dt1, dt2, dt3 = self.param_differential(model, **model.theta)\n",
    "            t0 += self.lr * self.loglikelihood(model, dt0)\n",
    "            t1 += self.lr * self.loglikelihood(model, dt1)\n",
    "            t2 += self.lr * self.loglikelihood(model, dt2)\n",
    "            t3 += self.lr * self.loglikelihood(model, dt3)\n",
    "            model.theta = {'t0':t0.item(), 't1':t1.item(), 't2':t2.item(), 't3':t3.item()}\n",
    "            print(model.theta, end='\\r')\n",
    "\n",
    "        return model.theta\n",
    "\n",
    "    def loglikelihood(self, model, dtheta):\n",
    "        c_inv = np.linalg.inv(model.C())\n",
    "        return -0.5*np.trace((c_inv @ dtheta)) + (0.5*(model.y.T @ c_inv)@(dtheta)@ c_inv)@(model.y)"
   ]
  },
  {
   "cell_type": "code",
   "execution_count": 88,
   "metadata": {},
   "outputs": [],
   "source": [
    "theta = [\n",
    "    {'t0':1, 't1':1, 't2':1, 't3':1},\n",
    "]"
   ]
  },
  {
   "cell_type": "code",
   "execution_count": 90,
   "metadata": {},
   "outputs": [
    {
     "name": "stdout",
     "output_type": "stream",
     "text": [
      "{'t0': 1.5071832469056023, 't1': 1.0374413971216383, 't2': 1.0005053966663715, 't3': 0.9950901708213623}\n",
      "{'t0': 1.7317440191861762, 't1': 1.0423946061430969, 't2': 1.0000762369910616, 't3': 0.9901659045272032}\n",
      "{'t0': 1.900985365128602, 't1': 1.0403281888185898, 't2': 0.9994256469778442, 't3': 0.9852235492835031}\n",
      "{'t0': 2.040708466842499, 't1': 1.0347459624408846, 't2': 0.9986511591219296, 't3': 0.9802618645937994}\n",
      "{'t0': 2.16137994531731, 't1': 1.0271482954515818, 't2': 0.9977950284827134, 't3': 0.9752799689671703}\n",
      "{'t0': 2.2684997147247525, 't1': 1.018346369578927, 't2': 0.9968804311519629, 't3': 0.9702771454833163}\n",
      "{'t0': 2.3653802800187256, 't1': 1.0088357401491657, 't2': 0.9959217778194268, 't3': 0.9652527683121017}\n",
      "{'t0': 2.4541966447210575, 't1': 0.9989425847979649, 't2': 0.9949287765147782, 't3': 0.9602062665801612}\n",
      "{'t0': 2.5364653970497364, 't1': 0.9888920550880193, 't2': 0.9939083452944701, 't3': 0.9551371039382441}\n",
      "{'t0': 2.613292061236052, 't1': 0.9788441935463196, 't2': 0.9928656239738368, 't3': 0.9500447659107586}\n",
      "{'t0': 2.685510582488043, 't1': 0.9689145035775377, 't2': 0.9918045557621219, 't3': 0.9449287515353091}\n",
      "{'t0': 2.753767404402402, 't1': 0.9591865653250986, 't2': 0.990728243394384, 't3': 0.939788567552653}\n",
      "{'t0': 2.8185748712483805, 't1': 0.9497202372412518, 't2': 0.989639178311292, 't3': 0.9346237242012021}\n",
      "{'t0': 2.880346612562753, 't1': 0.9405572717006014, 't2': 0.9885393942492771, 't3': 0.9294337320657787}\n",
      "{'t0': 2.939421823374395, 't1': 0.9317253449722441, 't2': 0.9874305737335526, 't3': 0.9242180996423708}\n",
      "{'t0': 2.9960824216956987, 't1': 0.9232410732338882, 't2': 0.9863141241016434, 't3': 0.9189763314015009}\n",
      "{'t0': 3.050565480007022, 't1': 0.9151123522595779, 't2': 0.9851912331767233, 't3': 0.9137079262044111}\n",
      "{'t0': 3.1030724284734528, 't1': 0.9073402252887959, 't2': 0.9840629109700098, 't3': 0.9084123759713842}\n",
      "{'t0': 3.1537759965110883, 't1': 0.8999204056545327, 't2': 0.9829300215559926, 't3': 0.9030891645301707}\n",
      "{'t0': 3.2028255343468732, 't1': 0.8928445343408812, 't2': 0.9817933078824891, 't3': 0.8977377665921902}\n",
      "{'t0': 3.2503511512209635, 't1': 0.8861012248404312, 't2': 0.980653411398468, 't3': 0.8923576468170901}\n",
      "{'t0': 3.296466974047358, 't1': 0.8796769310930349, 't2': 0.9795108878093207, 't3': 0.8869482589362168}\n",
      "{'t0': 3.341273742188079, 't1': 0.8735566644977742, 't2': 0.9783662198873079, 't3': 0.8815090449121327}\n",
      "{'t0': 3.3848608942065583, 't1': 0.8677245802828754, 't2': 0.9772198280056354, 't3': 0.8760394341168954}\n",
      "{'t0': 3.427308261109801, 't1': 0.8621644501926213, 't2': 0.9760720788856816, 't3': 0.8705388425150232}\n",
      "{'t0': 3.4686874514599664, 't1': 0.8568600364400224, 't2': 0.9749232929215571, 't3': 0.8650066718406891}\n",
      "{'t0': 3.5090629928723143, 't1': 0.8517953805257337, 't2': 0.9737737503571552, 't3': 0.8594423087603451}\n",
      "{'t0': 3.5484932792389654, 't1': 0.8469550194536135, 't2': 0.9726236965267715, 't3': 0.8538451240138235}\n",
      "{'t0': 3.5870313618175302, 't1': 0.8423241408763511, 't2': 0.9714733463236225, 't3': 0.8482144715278859}\n",
      "{'t0': 3.6247256139486597, 't1': 0.837888687687604, 't2': 0.970322888026029, 't3': 0.8425496874973013}\n",
      "{'t0': 3.6616202928288244, 't1': 0.8336354215159782, 't2': 0.9691724865851108, 't3': 0.8368500894287495}\n",
      "{'t0': 3.697756016916416, 't1': 0.829551953483258, 't2': 0.9680222864581236, 't3': 0.8311149751431466}\n",
      "{'t0': 3.733170173804564, 't1': 0.8256267494942033, 't2': 0.9668724140563414, 't3': 0.8253436217322421}\n",
      "{'t0': 3.7678972704768148, 't1': 0.8218491162605639, 't2': 0.965722979864473, 't3': 0.8195352844650726}\n",
      "{'t0': 3.801969235571902, 't1': 0.8182091732574374, 't2': 0.9645740802791196, 't3': 0.8136891956399019}\n",
      "{'t0': 3.8354156814743687, 't1': 0.8146978148875879, 't2': 0.9634257992061622, 't3': 0.8078045633768574}\n",
      "{'t0': 3.8682641326094216, 't1': 0.8113066663031542, 't2': 0.9622782094507468, 't3': 0.8018805703459825}\n",
      "{'t0': 3.9005402251709995, 't1': 0.8080280356109553, 't2': 0.9611313739284223, 't3': 0.7959163724256307}\n",
      "{'t0': 3.932267882589153, 't1': 0.8048548645674766, 't2': 0.9599853467217307, 't3': 0.7899110972848888}\n",
      "{'t0': 3.9634694702985005, 't1': 0.8017806793484005, 't2': 0.9588401740029859, 't3': 0.7838638428836259}\n",
      "{'t0': 3.9941659327667844, 't1': 0.7987995425475706, 't2': 0.9576958948409756, 't3': 0.7777736758832436}\n",
      "{'t0': 4.02437691525248, 't1': 0.7959060072120286, 't2': 0.9565525419067789, 't3': 0.7716396299601179}\n",
      "{'t0': 4.054120872360435, 't1': 0.7930950734430161, 't2': 0.9554101420917265, 't3': 0.7654607040136028}\n",
      "{'t0': 4.083415165136839, 't1': 0.790362147877116, 't2': 0.9542687170486887, 't3': 0.7592358602591}\n",
      "{'t0': 4.112276148175333, 't1': 0.7877030061973199, 't2': 0.9531282836662941, 't3': 0.7529640221960462}\n",
      "{'t0': 4.140719247983598, 't1': 0.7851137587014018, 't2': 0.9519888544843331, 't3': 0.7466440724399243}\n",
      "{'t0': 4.16875903367539, 't1': 0.7825908188668658, 't2': 0.9508504380574366, 't3': 0.740274850405693}\n",
      "{'t0': 4.196409280899616, 't1': 0.7801308747906583, 't2': 0.9497130392731198, 't3': 0.7338551498293262}\n",
      "{'t0': 4.223683029789884, 't1': 0.7777308633419353, 't2': 0.9485766596294214, 't3': 0.7273837161125645}\n",
      "{'t0': 4.2505926376105485, 't1': 0.7753879468426703, 't2': 0.9474412974766245, 't3': 0.7208592434743649}\n",
      "θ: [4.251, 0.775, 0.947, 0.721], Training RMS 0.928, Testing RMS 0.919\n"
     ]
    }
   ],
   "source": [
    "for t in theta:\n",
    "    optimizer = Ard(learning_rate=0.01, max_iter=50)\n",
    "    model = GKP2(theta=t)\n",
    "    model.fit(x_train, y_train)\n",
    "    \n",
    "    # optimized RMS\n",
    "    model.theta = optimizer.updata_param(model)\n",
    "    optim_param = {f\"{key}\":round(model.theta[key], 3) for key in model.theta}\n",
    "    mean, _ = model.predict(x_train)\n",
    "    rmstrain = RMS(y_train.flatten(), mean)\n",
    "    mean, _ = model.predict(x_test)\n",
    "    rmstest = RMS(y_test.flatten(), mean) \n",
    "    \n",
    "    print(f'\\u03B8: {list(optim_param.values())}, Training RMS {rmstrain:.3f}, Testing RMS {rmstest:.3f}')"
   ]
  },
  {
   "cell_type": "markdown",
   "metadata": {},
   "source": [
    "<center>\n",
    "    <img src = \"opt_theta.png\", width=\"700\">\n",
    "</center>"
   ]
  },
  {
   "cell_type": "code",
   "execution_count": null,
   "metadata": {},
   "outputs": [],
   "source": [
    "plt.figure(figsize=(8, 6))\n",
    "\n",
    "plt.plot(x_train, y_train, 'bo', label='train')\n",
    "plt.plot(x, mean, '-', c='r')\n",
    "plt.fill_between(x.flatten(), mean+std, mean-std, color='pink')\n",
    "plt.xlabel('X')\n",
    "plt.ylabel('y')\n",
    "plt.title(r'$\\theta$ = '+f'{list(theta[i].values())}')\n",
    "plt.legend()\n",
    "title = 'Theta' + str(i+1) + '.png'\n",
    "plt.savefig(title)\n",
    "plt.show()"
   ]
  },
  {
   "cell_type": "markdown",
   "metadata": {},
   "source": [
    "#### 2.4\n",
    "Explain your findings and **do some discussion.**"
   ]
  },
  {
   "cell_type": "markdown",
   "metadata": {},
   "source": [
    "With automatic relevance determination (ARD), some parameters gradually decreases with the number of iterations. \n",
    "\n",
    "It can be clearly felt that it can **help us filter out dimensions in the data that are not helpful for Gaussian Process prediction.**\n",
    "\n",
    "The weights of the regression model are assumed to be in Gaussian distributions.\n",
    "\n",
    "So each of the theta, their root mean square are lower than without using automatic relevance determination."
   ]
  }
 ],
 "metadata": {
  "kernelspec": {
   "display_name": "Python 3.9.12 ('base')",
   "language": "python",
   "name": "python3"
  },
  "language_info": {
   "codemirror_mode": {
    "name": "ipython",
    "version": 3
   },
   "file_extension": ".py",
   "mimetype": "text/x-python",
   "name": "python",
   "nbconvert_exporter": "python",
   "pygments_lexer": "ipython3",
   "version": "3.9.12 (main, Apr  5 2022, 06:56:58) \n[GCC 7.5.0]"
  },
  "orig_nbformat": 4,
  "vscode": {
   "interpreter": {
    "hash": "359ee23c21665437fbe71670f2b4cc12cabe3ec8c098faf869079ebcf8636aa8"
   }
  }
 },
 "nbformat": 4,
 "nbformat_minor": 2
}
