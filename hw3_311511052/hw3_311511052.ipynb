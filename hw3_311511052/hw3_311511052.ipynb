{
 "cells": [
  {
   "cell_type": "code",
   "execution_count": 2,
   "metadata": {},
   "outputs": [],
   "source": [
    "import pandas as pd\n",
    "import numpy as np\n",
    "import matplotlib.pyplot as plt\n",
    "from matplotlib.colors import ListedColormap\n",
    "import os\n",
    "from sklearn import svm\n",
    "from sklearn.decomposition import PCA\n",
    "from scipy.stats import multivariate_normal\n",
    "\n",
    "\n",
    "# you can choose one of the following package for image reading/processing\n",
    "\n",
    "import cv2\n",
    "import PIL\n"
   ]
  },
  {
   "attachments": {},
   "cell_type": "markdown",
   "metadata": {},
   "source": [
    "## 1 Support Vector Machine\n",
    "\n",
    "<style>\n",
    ".blue{\n",
    "    color: skyblue;\n",
    "}\n",
    ".bold{\n",
    "    font-weight: bold;\n",
    "}\n",
    "</style>\n",
    "\n",
    "In the training procedure of SVM, we need to optimize with respect to the Lagrange multipliers\n",
    "$a = \\{ a_n \\}$. \n",
    "\n",
    "Here, we use the <span class=\"blue\">sequential minimal optimization</span> to solve the problem. \n",
    "\n",
    "For details, you can refer to the paper [Platt, John. “Sequential minimal optimization: \n",
    "\n",
    "A fast algorithm for training support vector machines”, 1998]. The classifier is written by\n",
    "\n",
    "$$\n",
    "    y(\\textbf{x}) = \\sum_{n=1}^N a_n t_n k(\\textbf{x}, \\textbf{x}_n) = \\textbf{w}^T \\textbf{x} + b\n",
    "$$\n",
    "$$\n",
    "    \\textbf{w} = \\sum_{n=1}^N \\alpha_n t_n \\phi(\\textbf{x}_n)\n",
    "$$\n",
    "$$\n",
    "    b = \\frac{1}{N_{\\mathcal{M}}} \\sum_{n \\in \\mathcal{M}} \\left( t_n - \\sum_{m \\in \\mathcal{S}} a_m t_m k(\\textbf{x}_n, \\textbf{x}_m) \\right)\n",
    "$$\n",
    "\n",
    "where $\\mathcal{M}$ denotes the set of indices of data points having $0 \\lt a_n \\lt C$.\n",
    "\n",
    "### 1.1\n",
    "\n",
    "It is popular to use principal component analysis (PCA) to reduce the dimension of images\n",
    "to d = 2. Please implement it by yourself instead of using the method from sklearn."
   ]
  },
  {
   "cell_type": "code",
   "execution_count": null,
   "metadata": {},
   "outputs": [],
   "source": []
  },
  {
   "attachments": {},
   "cell_type": "markdown",
   "metadata": {},
   "source": [
    "#### 1.2\n",
    "\n",
    "Describe the difference between two decision approaches (one-versus-the-rest and one-\n",
    "versus-one). \n",
    "\n",
    "Decide which one you want to choose and explain why you choose this ap-\n",
    "proach."
   ]
  },
  {
   "cell_type": "code",
   "execution_count": null,
   "metadata": {},
   "outputs": [],
   "source": []
  },
  {
   "attachments": {},
   "cell_type": "markdown",
   "metadata": {},
   "source": [
    "#### 1.3\n",
    "\n",
    "<style>\n",
    ".blue{\n",
    "    color: skyblue;\n",
    "}\n",
    ".bold{\n",
    "    font-weight: bold;\n",
    "}\n",
    "</style>\n",
    "\n",
    "Use the principle values projected to top <span class=\"blue\">two</span> eigenvectors obtained from PCA, and build\n",
    "a SVM with <span class=\"blue\">linear kernel</span> to do multi-class classification. \n",
    "\n",
    "You can decide the upper bound $C$ of $a_n$ by yourself or just use the default value provided by sklearn. \n",
    "\n",
    "Then, <span class=\"blue\">plot the corresponding decision boundary</span> and show the <span class=\"blue\">support vectors.</span>\n",
    "\n",
    "* Linear kernel:\n",
    "$$\n",
    "    k(\\textbf{x}_i, \\textbf{x}_j) = \\phi(\\textbf{x}_i)^T \\phi(\\textbf{x}_j) = \\textbf{x}_i^T \\textbf{x}_j\n",
    "$$\n",
    "\n",
    "The sample figures are provided below.\n",
    "\n",
    "<center>\n",
    "    <img src = \"./image/figure1.png\" width = 50%>\n",
    "</center>"
   ]
  },
  {
   "cell_type": "code",
   "execution_count": null,
   "metadata": {},
   "outputs": [],
   "source": []
  },
  {
   "attachments": {},
   "cell_type": "markdown",
   "metadata": {},
   "source": [
    "#### Bonus\n",
    "\n",
    "<style>\n",
    ".blue{\n",
    "    color: skyblue;\n",
    "}\n",
    ".bold{\n",
    "    font-weight: bold;\n",
    "}\n",
    "</style>\n",
    "\n",
    "Repeat 3 with <span class=\"blue\">polynomial kernel (degree = 2).</span>\n",
    "\n",
    "* Polynomial (homogeneous) kernel of degree 2:\n",
    "\n",
    "$$\n",
    "    k(\\textbf{x}_i, \\textbf{x}_j) = \\phi(\\textbf{x}_i)^T \\phi(\\textbf{x}_j) = \\left( \\textbf{x}_i^T \\textbf{x}_j\\right)^2\n",
    "$$\n",
    "$$\n",
    "    \\phi(\\textbf{x}) = \\left[ \\textbf{x}_1^2, \\sqrt{2} \\textbf{x}_1 \\textbf{x}_2, \\textbf{x}_2^2 \\right]\n",
    "$$\n",
    "$$\n",
    "    \\textbf{x} = \\left[ x_1, x_2 \\right]\n",
    "$$"
   ]
  },
  {
   "cell_type": "code",
   "execution_count": null,
   "metadata": {},
   "outputs": [],
   "source": [
    "data = pd.read_csv(\"./x_train.csv\",header= None)/255\n",
    "label = pd.read_csv(\"./t_train.csv\",header= None)"
   ]
  },
  {
   "attachments": {},
   "cell_type": "markdown",
   "metadata": {},
   "source": [
    "## 2 Gaussian Mixture Model\n",
    "\n",
    "<style>\n",
    ".blue{\n",
    "    color: skyblue;\n",
    "}\n",
    ".red{\n",
    "    color: red;\n",
    "}\n",
    ".bold{\n",
    "    font-weight: bold;\n",
    "}\n",
    "</style>\n",
    "\n",
    "In this exercise, you will implement a Gaussian mixture model (GMM) and apply it in image segmentation. \n",
    "\n",
    "First, use a $K$-means algorithm to find $K$ central pixels. \n",
    "\n",
    "Second, use the expectation maximization (EM) algorithm <span class=\"blue\">(please refer to textbook p.438-p.439)</span> to optimize the parameters of the model. \n",
    "\n",
    "The input image is given by <span class=\"red\">hw3.jpg</span>. \n",
    "\n",
    "According to the maximum likelihood, you can decide the color $\\mu_k$ , $k \\in [1, . . . , K]$ of each pixel $x_n$ of output image\n",
    "\n",
    "#### 2.1\n",
    "\n",
    "Please build a $K$-means model by minimizing\n",
    "\n",
    "$$\n",
    "    J = \\sum_{n=1}^N \\sum_{k=1}^K \\gamma_{nk} \\| x_n - \\mu_k \\|^2\n",
    "$$\n",
    "\n",
    "and show the table of the estimated $\\{ \\mu_k \\}^K_{k=1}$."
   ]
  },
  {
   "cell_type": "code",
   "execution_count": null,
   "metadata": {},
   "outputs": [],
   "source": [
    "image = cv2.imread(\"./hw3.jpg\")"
   ]
  },
  {
   "attachments": {},
   "cell_type": "markdown",
   "metadata": {},
   "source": [
    "#### 2.2\n",
    "\n",
    "<style>\n",
    ".blue{\n",
    "    color: skyblue;\n",
    "}\n",
    ".red{\n",
    "    color: red;\n",
    "}\n",
    ".bold{\n",
    "    font-weight: bold;\n",
    "}\n",
    "</style>\n",
    "\n",
    "Use $ \\mu = \\{ \\mu_k \\}^K_{k=1}$ calculated by the $K$-means model as the means, and calculate the corresponding variances $ \\sigma_k^2 $ \n",
    "\n",
    "and mixing coefficient $\\pi_k$ for the initialization of the GMM $p(x) = \\sum_{k=1}^K \\pi_k \\mathcal{N}(x \\ | \\ \\mu_k, \\sigma_k^2)$.\n",
    "\n",
    "Optimize the model by maximizing the log likelihood function $\\log \\ p(x \\ | \\ \\pi, \\mu, \\sigma^2)$ over N pixels through EM algorithm. \n",
    "\n",
    "<span class=\"red\">Plot the learning curve for log likelihood of GMM.</span> <span class=\"blue\">(Please terminate EM algorithm when the number of iterations arrives at 100.)</span>"
   ]
  },
  {
   "cell_type": "code",
   "execution_count": null,
   "metadata": {},
   "outputs": [],
   "source": []
  },
  {
   "attachments": {},
   "cell_type": "markdown",
   "metadata": {},
   "source": [
    "#### 2.3\n",
    "\n",
    "Repeat steps 1 and 2 for $K = 2, 3, 7$ and $20$. Please show the resulting images of $K$-means model and GMM, respectively. \n",
    "\n",
    "Below are some examples.\n",
    "\n",
    "<center>\n",
    "    <img src = \"./image/figure2.png\" width = 50%>\n",
    "</center>"
   ]
  },
  {
   "cell_type": "code",
   "execution_count": null,
   "metadata": {},
   "outputs": [],
   "source": []
  },
  {
   "attachments": {},
   "cell_type": "markdown",
   "metadata": {},
   "source": [
    "#### 2.4\n",
    "\n",
    "Make some discussion about what is crucial factor to affect the output image between $K$-means and Gaussian mixture model (GMM), and explain the reason."
   ]
  },
  {
   "attachments": {},
   "cell_type": "markdown",
   "metadata": {},
   "source": [
    "#### 2.5\n",
    "\n",
    "The input image shown below comes from the licence-free dataset for personal and commercial use. \n",
    "\n",
    "Image from: https://pickupimage.com/free-photos/Cat-in-the-forest/2333003\n",
    "\n",
    "<center>\n",
    "    <img src = \"./image/figure3.png\" width = 30%>\n",
    "</center>"
   ]
  }
 ],
 "metadata": {
  "kernelspec": {
   "display_name": "Python 3",
   "language": "python",
   "name": "python3"
  },
  "language_info": {
   "codemirror_mode": {
    "name": "ipython",
    "version": 3
   },
   "file_extension": ".py",
   "mimetype": "text/x-python",
   "name": "python",
   "nbconvert_exporter": "python",
   "pygments_lexer": "ipython3",
   "version": "3.10.6 (main, Nov 14 2022, 16:10:14) [GCC 11.3.0]"
  },
  "vscode": {
   "interpreter": {
    "hash": "916dbcbb3f70747c44a77c7bcd40155683ae19c65e1c03b4aa3499c5328201f1"
   }
  }
 },
 "nbformat": 4,
 "nbformat_minor": 4
}
